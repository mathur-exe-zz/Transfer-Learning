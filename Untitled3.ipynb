{
  "nbformat": 4,
  "nbformat_minor": 0,
  "metadata": {
    "colab": {
      "name": "Untitled3.ipynb",
      "provenance": []
    },
    "kernelspec": {
      "name": "python3",
      "display_name": "Python 3"
    },
    "language_info": {
      "name": "python"
    }
  },
  "cells": [
    {
      "cell_type": "markdown",
      "source": [
        "References\n",
        "\n",
        "[Plant Pathology - PyTorch [Resnet50 : 93.15%]](https://www.kaggle.com/code/harshitlakhani/plant-pathology-pytorch-resnet50-93-15)\n",
        "\n",
        "<!-- []() -->"
      ],
      "metadata": {
        "id": "GNX2zbYwg4rz"
      }
    },
    {
      "cell_type": "code",
      "source": [
        "!pip install -q kaggle\n",
        "! mkdir ~/.kaggle\n",
        "! cp kaggle.json ~/.kaggle/\n",
        "! chmod 600 ~/.kaggle/kaggle.json\n",
        "!kaggle competitions download -c plant-pathology-2020-fgvc7\n",
        "!unzip -q plant-pathology-2020-fgvc7.zip -d Plant_Pathology;"
      ],
      "metadata": {
        "colab": {
          "base_uri": "https://localhost:8080/"
        },
        "id": "52ZvofGJa8kX",
        "outputId": "aeefd94f-f866-4821-f90b-010f5e48bdfe"
      },
      "execution_count": 13,
      "outputs": [
        {
          "output_type": "stream",
          "name": "stdout",
          "text": [
            "mkdir: cannot create directory ‘/root/.kaggle’: File exists\n",
            "plant-pathology-2020-fgvc7.zip: Skipping, found more recently modified local copy (use --force to force download)\n"
          ]
        }
      ]
    },
    {
      "cell_type": "code",
      "source": [
        "!! pip install -q albumentations"
      ],
      "metadata": {
        "colab": {
          "base_uri": "https://localhost:8080/"
        },
        "id": "n9va9W1IbE71",
        "outputId": "2ecb62a0-439a-4b35-dac8-6e3ff97de577"
      },
      "execution_count": 9,
      "outputs": [
        {
          "output_type": "execute_result",
          "data": {
            "text/plain": [
              "[]"
            ]
          },
          "metadata": {},
          "execution_count": 9
        }
      ]
    },
    {
      "cell_type": "code",
      "execution_count": 11,
      "metadata": {
        "id": "Atd_j1fOWK20"
      },
      "outputs": [],
      "source": [
        "import time \n",
        "import os \n",
        "import numpy as np \n",
        "import pandas as pd\n",
        "from tqdm import tqdm\n",
        "\n",
        "import matplotlib.pyplot as plt\n",
        "from matplotlib.image import imread \n",
        "\n",
        "from sklearn.model_selection import train_test_split\n",
        "\n",
        "import cv2\n",
        "import torch\n",
        "import torchvision\n",
        "import torch.nn as nn\n",
        "from torchvision import models, transforms\n",
        "\n",
        "import albumentations as A\n",
        "# from albumentations.pytorch import ToTensorV2"
      ]
    },
    {
      "cell_type": "code",
      "source": [
        "root = '/content/Plant_Pathology/'\n",
        "train = pd.read_csv(os.path.join(root, 'train.csv'))\n",
        "test = pd.read_csv(os.path.join(root, 'test.csv'))\n",
        "submission = pd.read_csv(os.path.join(root, 'sample_submission.csv'))\n",
        "images = os.path.join(root, 'images/')"
      ],
      "metadata": {
        "id": "tLCCZRPFZcGS"
      },
      "execution_count": 16,
      "outputs": []
    },
    {
      "cell_type": "code",
      "source": [
        "def img_path(path):\n",
        "  return images + path + '.jpg'\n",
        "\n",
        "train['img_path'] = img_path(train['image_id'])"
      ],
      "metadata": {
        "id": "SUvF_8nxj4dV"
      },
      "execution_count": 48,
      "outputs": []
    },
    {
      "cell_type": "code",
      "source": [
        "# train.head(10)\n",
        "use = train.columns.drop('image_id')"
      ],
      "metadata": {
        "colab": {
          "base_uri": "https://localhost:8080/"
        },
        "id": "2F---oEvcNEs",
        "outputId": "c2ac2524-2582-4019-9111-c822e1a4e562"
      },
      "execution_count": 20,
      "outputs": [
        {
          "output_type": "execute_result",
          "data": {
            "text/plain": [
              "Index(['healthy', 'multiple_diseases', 'rust', 'scab'], dtype='object')"
            ]
          },
          "metadata": {},
          "execution_count": 20
        }
      ]
    },
    {
      "cell_type": "code",
      "source": [
        "from numpy.ma.core import count\n",
        "disease = {}\n",
        "\n",
        "for column in use:\n",
        "  count = pd.DataFrame(train[column].value_counts())\n",
        "  disease[column] = count.iloc[1, 0]\n",
        "\n",
        "fig, (ax1, ax2) = plt.subplots(2, 1, figsize=(12, 8))\n",
        "ax1.bar(disease.keys(), disease.values())\n",
        "ax2.pie(disease.values(), labels=disease.keys())\n",
        "plt.show()"
      ],
      "metadata": {
        "colab": {
          "base_uri": "https://localhost:8080/",
          "height": 426
        },
        "id": "NSqQBetCcjqy",
        "outputId": "14e3596f-ae6e-4931-ad9a-c206327e436b"
      },
      "execution_count": 34,
      "outputs": [
        {
          "output_type": "display_data",
          "data": {
            "text/plain": [
              "<Figure size 864x576 with 2 Axes>"
            ],
            "image/png": "[encoded data removed]"
          },
          "metadata": {
            "needs_background": "light"
          }
        }
      ]
    },
    {
      "cell_type": "code",
      "source": [
        "def show_image(image, typ):\n",
        "  fig, p = plt.subplot(2, 4, figsize=(24, 12))\n",
        "  for i in range(4):\n",
        "    p[i, 0] = \n",
        "    "
      ],
      "metadata": {
        "colab": {
          "base_uri": "https://localhost:8080/"
        },
        "id": "_EyyyErOdZOy",
        "outputId": "a341cf82-bfc0-4294-93a6-57cd19403648"
      },
      "execution_count": 42,
      "outputs": [
        {
          "output_type": "stream",
          "name": "stdout",
          "text": [
            "0\n",
            "1\n",
            "2\n",
            "3\n",
            "4\n",
            "5\n",
            "6\n",
            "7\n"
          ]
        }
      ]
    },
    {
      "cell_type": "code",
      "source": [
        "healthy_img = train['image_id'][train['healthy'] == 1]\n",
        "healthy_img"
      ],
      "metadata": {
        "colab": {
          "base_uri": "https://localhost:8080/"
        },
        "id": "rqui_vNWimSK",
        "outputId": "f8293540-0409-46ef-b192-38f039eb0767"
      },
      "execution_count": 39,
      "outputs": [
        {
          "output_type": "execute_result",
          "data": {
            "text/plain": [
              "516"
            ]
          },
          "metadata": {},
          "execution_count": 39
        }
      ]
    },
    {
      "cell_type": "code",
      "source": [
        ""
      ],
      "metadata": {
        "id": "Re6k-qKCinX4"
      },
      "execution_count": null,
      "outputs": []
    }
  ]
}