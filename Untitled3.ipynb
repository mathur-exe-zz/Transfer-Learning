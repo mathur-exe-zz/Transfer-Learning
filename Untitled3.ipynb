{
  "nbformat": 4,
  "nbformat_minor": 0,
  "metadata": {
    "colab": {
      "name": "Untitled3.ipynb",
      "provenance": [],
      "collapsed_sections": []
    },
    "kernelspec": {
      "name": "python3",
      "display_name": "Python 3"
    },
    "language_info": {
      "name": "python"
    }
  },
  "cells": [
    {
      "cell_type": "markdown",
      "source": [
        "References\n",
        "\n",
        "[Plant Pathology - PyTorch [Resnet50 : 93.15%]](https://www.kaggle.com/code/harshitlakhani/plant-pathology-pytorch-resnet50-93-15)\n",
        "\n",
        "<!-- []() -->"
      ],
      "metadata": {
        "id": "GNX2zbYwg4rz"
      }
    },
    {
      "cell_type": "code",
      "source": [
        "!pip install -q kaggle\n",
        "! mkdir ~/.kaggle\n",
        "! cp kaggle.json ~/.kaggle/\n",
        "! chmod 600 ~/.kaggle/kaggle.json\n",
        "!kaggle competitions download -c plant-pathology-2020-fgvc7\n",
        "!unzip -q plant-pathology-2020-fgvc7.zip -d Plant_Pathology;"
      ],
      "metadata": {
        "colab": {
          "base_uri": "https://localhost:8080/"
        },
        "id": "52ZvofGJa8kX",
        "outputId": "1f820e78-bc36-412c-9249-18c3e8a8dc7b"
      },
      "execution_count": null,
      "outputs": [
        {
          "output_type": "stream",
          "name": "stdout",
          "text": [
            "mkdir: cannot create directory ‘/root/.kaggle’: File exists\n",
            "plant-pathology-2020-fgvc7.zip: Skipping, found more recently modified local copy (use --force to force download)\n",
            "replace Plant_Pathology/images/Test_0.jpg? [y]es, [n]o, [A]ll, [N]one, [r]ename: "
          ]
        }
      ]
    },
    {
      "cell_type": "code",
      "source": [
        "!pip install -q albumentations"
      ],
      "metadata": {
        "id": "n9va9W1IbE71"
      },
      "execution_count": null,
      "outputs": []
    },
    {
      "cell_type": "code",
      "execution_count": null,
      "metadata": {
        "id": "Atd_j1fOWK20"
      },
      "outputs": [],
      "source": [
        "import time \n",
        "import os \n",
        "import numpy as np \n",
        "import pandas as pd\n",
        "from tqdm import tqdm\n",
        "import random\n",
        "\n",
        "import matplotlib.pyplot as plt\n",
        "from matplotlib.image import imread\n",
        "from matplotlib.pyplot import imshow\n",
        "\n",
        "from sklearn.model_selection import train_test_split\n",
        "\n",
        "import cv2\n",
        "import torch\n",
        "import torchvision\n",
        "import torch.nn as nn\n",
        "from torchvision import models\n",
        "from torchvision import transforms as T\n",
        "import torch.utils.data as Data\n",
        "\n",
        "import albumentations as A\n",
        "# from albumentations.pytorch import ToTensorV2"
      ]
    },
    {
      "cell_type": "code",
      "source": [
        "root = '/content/Plant_Pathology/'\n",
        "train = pd.read_csv(os.path.join(root, 'train.csv'))\n",
        "test = pd.read_csv(os.path.join(root, 'test.csv'))\n",
        "submission = pd.read_csv(os.path.join(root, 'sample_submission.csv'))\n",
        "images = os.path.join(root, 'images/')"
      ],
      "metadata": {
        "id": "tLCCZRPFZcGS"
      },
      "execution_count": null,
      "outputs": []
    },
    {
      "cell_type": "code",
      "source": [
        "def img_path(path):\n",
        "  return images + path + '.jpg'\n",
        "\n",
        "train['img_path'] = img_path(train['image_id'])\n",
        "test['img_path'] = img_path(test['image_id'])"
      ],
      "metadata": {
        "id": "SUvF_8nxj4dV"
      },
      "execution_count": null,
      "outputs": []
    },
    {
      "cell_type": "code",
      "source": [
        "# train.head(10)\n",
        "use = train.columns.drop('image_id')"
      ],
      "metadata": {
        "id": "2F---oEvcNEs"
      },
      "execution_count": null,
      "outputs": []
    },
    {
      "cell_type": "code",
      "source": [
        "train.head(10)"
      ],
      "metadata": {
        "id": "1972S8BPSuna"
      },
      "execution_count": null,
      "outputs": []
    },
    {
      "cell_type": "code",
      "source": [
        "test.head(10)"
      ],
      "metadata": {
        "id": "A2Nj3wXiVBUZ"
      },
      "execution_count": null,
      "outputs": []
    },
    {
      "cell_type": "code",
      "source": [
        "from numpy.ma.core import count\n",
        "disease = {}\n",
        "\n",
        "for column in use:\n",
        "  count = pd.DataFrame(train[column].value_counts())\n",
        "  disease[column] = count.iloc[1, 0]\n",
        "\n",
        "fig, (ax1, ax2) = plt.subplots(2, 1, figsize=(12, 8))\n",
        "ax1.bar(disease.keys(), disease.values())\n",
        "ax2.pie(disease.values(), labels=disease.keys())\n",
        "plt.show()"
      ],
      "metadata": {
        "id": "NSqQBetCcjqy"
      },
      "execution_count": null,
      "outputs": []
    },
    {
      "cell_type": "code",
      "source": [
        "disease"
      ],
      "metadata": {
        "id": "Lpc1Ii7inMaz"
      },
      "execution_count": null,
      "outputs": []
    },
    {
      "cell_type": "code",
      "source": [
        "def ShowImages(images, typ):\n",
        "  fig = plt.figure(figsize=(16,12))\n",
        "  number_of_images = len(images)\n",
        "  for i in range(number_of_images):\n",
        "    a=fig.add_subplot(1,number_of_images,i+1)\n",
        "    a.set_title(typ, fontsize = 10)\n",
        "    image = imread(os.path.join(root,\"images\",images[i]))\n",
        "    imshow(image)\n",
        "    plt.axis('off')\n",
        "        \n",
        "col=[\"healthy\",\"multiple_diseases\",\"rust\",\"scab\"]\n",
        "print(\"Row's are in order of\", col)\n",
        "\n",
        "for column in col:\n",
        "  images = (train[train[column].apply(lambda x: x == 1)][\"image_id\"].sample(4).values) + \".jpg\"\n",
        "  ShowImages(images, column)"
      ],
      "metadata": {
        "id": "_EyyyErOdZOy"
      },
      "execution_count": null,
      "outputs": []
    },
    {
      "cell_type": "markdown",
      "source": [
        "show_image"
      ],
      "metadata": {
        "id": "u7SP2j4Qog0r"
      }
    },
    {
      "cell_type": "code",
      "source": [
        "# def get_path(image):\n",
        "#   return os.path.join(root, 'images', image +'.jgp')\n",
        "\n",
        "train_paths = train['img_path']\n",
        "train_paths.reset_index(drop=True, inplace=True)\n",
        "train_labels = train.loc[:, 'healthy':'scab']\n",
        "train_labels.reset_index(drop=True, inplace=True)\n",
        "test_path = test['img_path']\n",
        "test_path.reset_index(drop=True, inplace=True)"
      ],
      "metadata": {
        "id": "Re6k-qKCinX4"
      },
      "execution_count": null,
      "outputs": []
    },
    {
      "cell_type": "code",
      "source": [
        "# from albumentations.augmentations.transforms import ShiftScaleRotate\n",
        "imagenet_stats = ([0.485, 0.456, 0.406], [0.229, 0.224, 0.225])\n",
        "mytransform = {\n",
        "    'train': A.Compose([\n",
        "                        T.RandomResizedCrop(256), \n",
        "                        T.RandomHorizontalFlip(p=0.5),\n",
        "                        T.RandomRotation(degrees=(90, -90), fill=(0,)),\n",
        "                        T.Normalize(*imagenet_stats),\n",
        "                        T.ToTensor()\n",
        "    ]),\n",
        "    'validation': T.Compose([\n",
        "                             T.RandomResizedCrop(256),\n",
        "                             T.Normalize(*imagenet_stats),\n",
        "                             T.ToTensor()\n",
        "    ])\n",
        "}"
      ],
      "metadata": {
        "id": "hOdRJ0brUuGo"
      },
      "execution_count": null,
      "outputs": []
    },
    {
      "cell_type": "code",
      "source": [
        "class ImageDataset(Data.Dataset):\n",
        "  def __init__(self, image_path, labels=None, test=False, transform=None):\n",
        "    self.image_path = image_path\n",
        "    self.test = test\n",
        "    if self.test == False:\n",
        "      self.labels = labels\n",
        "    self.transform = transform\n",
        "\n",
        "  def __len__(self):\n",
        "    return self.image_path.shape[0]\n",
        "  \n",
        "  def __getitem__(self, index):\n",
        "    if self.test == False:\n",
        "      labels = torch.tensor(np.argmax(self.labels.iloc[index, :]))\n",
        "    \n",
        "    image = cv2.imread(self.image_path[index])\n",
        "    image = cv2.cvtColor(image, cv2.COLOR_BGR2RGB)\n",
        "    image_transformed = self.images_transform(image=image)\n",
        "\n",
        "    if self.test == False:\n",
        "      return image_transformed['image'], labels\n",
        "    \n",
        "    return image_transformed['image']"
      ],
      "metadata": {
        "id": "nX-Uecd7bfTB"
      },
      "execution_count": null,
      "outputs": []
    },
    {
      "cell_type": "code",
      "source": [
        ""
      ],
      "metadata": {
        "id": "3Bl_cwWZfzcy"
      },
      "execution_count": null,
      "outputs": []
    }
  ]
}